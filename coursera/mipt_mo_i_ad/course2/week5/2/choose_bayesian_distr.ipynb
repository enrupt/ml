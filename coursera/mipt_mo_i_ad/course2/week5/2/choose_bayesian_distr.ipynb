{
 "cells": [
  {
   "cell_type": "code",
   "execution_count": 9,
   "metadata": {},
   "outputs": [],
   "source": [
    "import sklearn.datasets as ds\n",
    "\n",
    "X_digits, y_digits = ds.load_digits(return_X_y=True)\n",
    "X_breast_cancer, y_breast_cancer = ds.load_breast_cancer(return_X_y=True)"
   ]
  },
  {
   "cell_type": "code",
   "execution_count": 16,
   "metadata": {},
   "outputs": [
    {
     "name": "stdout",
     "output_type": "stream",
     "text": [
      "0.8241736304549674\n",
      "0.6274181027790716\n"
     ]
    }
   ],
   "source": [
    "from sklearn.naive_bayes import BernoulliNB\n",
    "from sklearn.model_selection import cross_val_score\n",
    "\n",
    "clf_bern = BernoulliNB()\n",
    "cv_bern_digits = cross_val_score(clf_bern, X_digits, y_digits)\n",
    "cv_bern_breast_cancer = cross_val_score(clf_bern, X_breast_cancer, y_breast_cancer)\n",
    "print(cv_bern_digits.mean())\n",
    "print(cv_bern_breast_cancer.mean())"
   ]
  },
  {
   "cell_type": "code",
   "execution_count": 17,
   "metadata": {},
   "outputs": [
    {
     "name": "stdout",
     "output_type": "stream",
     "text": [
      "0.8703497369235531\n",
      "0.8963204471355379\n"
     ]
    }
   ],
   "source": [
    "from sklearn.naive_bayes import MultinomialNB\n",
    "from sklearn.model_selection import cross_val_score\n",
    "\n",
    "clf_mn = MultinomialNB()\n",
    "cv_mn_digits = cross_val_score(clf_mn, X_digits, y_digits)\n",
    "cv_mn_breast_cancer = cross_val_score(clf_mn, X_breast_cancer, y_breast_cancer)\n",
    "print(cv_mn_digits.mean())\n",
    "print(cv_mn_breast_cancer.mean())"
   ]
  },
  {
   "cell_type": "code",
   "execution_count": 18,
   "metadata": {},
   "outputs": [
    {
     "name": "stdout",
     "output_type": "stream",
     "text": [
      "0.8069281956050759\n",
      "0.9385188635305075\n"
     ]
    }
   ],
   "source": [
    "from sklearn.naive_bayes import GaussianNB\n",
    "from sklearn.model_selection import cross_val_score\n",
    "\n",
    "clf_gauss = GaussianNB()\n",
    "cv_gauss_digits = cross_val_score(clf_gauss, X_digits, y_digits)\n",
    "cv_gauss_breast_cancer = cross_val_score(clf_gauss, X_breast_cancer, y_breast_cancer)\n",
    "print(cv_gauss_digits.mean())\n",
    "print(cv_gauss_breast_cancer.mean())"
   ]
  },
  {
   "cell_type": "code",
   "execution_count": null,
   "metadata": {},
   "outputs": [],
   "source": []
  }
 ],
 "metadata": {
  "kernelspec": {
   "display_name": "Python 3",
   "language": "python",
   "name": "python3"
  },
  "language_info": {
   "codemirror_mode": {
    "name": "ipython",
    "version": 3
   },
   "file_extension": ".py",
   "mimetype": "text/x-python",
   "name": "python",
   "nbconvert_exporter": "python",
   "pygments_lexer": "ipython3",
   "version": "3.8.5"
  }
 },
 "nbformat": 4,
 "nbformat_minor": 4
}
