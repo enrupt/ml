{
 "cells": [
  {
   "cell_type": "code",
   "execution_count": 2,
   "metadata": {},
   "outputs": [],
   "source": [
    "#!/usr/bin/env python\n",
    "# coding: utf-8\n",
    "\n",
    "# In[1]:\n",
    "\n",
    "\n",
    "import sklearn.datasets as ds\n",
    "from sklearn.model_selection import train_test_split\n",
    "#from sklearn.neighbors import KNeighborsClassifier\n",
    "from scipy.spatial import distance\n",
    "\n",
    "X, y = ds.load_digits(return_X_y=True)\n",
    "\n",
    "(X_train, X_test, y_train, y_test) = train_test_split(X, y, test_size=0.25, shuffle=False)"
   ]
  },
  {
   "cell_type": "code",
   "execution_count": 28,
   "metadata": {},
   "outputs": [],
   "source": [
    "import sys\n",
    "def get_closest_idx(from_x):\n",
    "    closest_dist = sys.maxsize\n",
    "    idx = -1\n",
    "    for i in range(0, len(X_train) - 1):\n",
    "        dst = distance.euclidean(from_x, X_train[i])\n",
    "        if dst < closest_dist:\n",
    "            closest_dist = dst\n",
    "            idx = i\n",
    "    return idx\n",
    "\n",
    "def predict():\n",
    "    predicted = []\n",
    "    for x_to_test in X_test:\n",
    "        class_idx = get_closest_idx(x_to_test)\n",
    "        predicted.append(y_train[class_idx])\n",
    "    return predicted"
   ]
  },
  {
   "cell_type": "code",
   "execution_count": 34,
   "metadata": {},
   "outputs": [
    {
     "name": "stdout",
     "output_type": "stream",
     "text": [
      "0.03777777777777778\n"
     ]
    },
    {
     "data": {
      "text/plain": [
       "0.0377777777777778"
      ]
     },
     "execution_count": 34,
     "metadata": {},
     "output_type": "execute_result"
    }
   ],
   "source": [
    "\n",
    "y_predicted = predict();\n",
    "\n",
    "def calc_mismatches(y_predicted):\n",
    "    mismatches = 0.0;\n",
    "    for i in range(0, len(y_test)):\n",
    "         if(y_predicted[i] != y_test[i]):\n",
    "             mismatches = mismatches + 1;\n",
    "    return mismatches\n",
    "\n",
    "\n",
    "mismatches = calc_mismatches(y_predicted);\n",
    "print(mismatches/len(y_test))\n",
    "\n",
    "from sklearn.metrics import zero_one_loss\n",
    "zero_one_loss(y_test, y_predicted)"
   ]
  },
  {
   "cell_type": "code",
   "execution_count": 35,
   "metadata": {},
   "outputs": [
    {
     "name": "stdout",
     "output_type": "stream",
     "text": [
      "0.06444444444444442\n"
     ]
    }
   ],
   "source": [
    "from sklearn.ensemble import RandomForestClassifier\n",
    "\n",
    "regr = RandomForestClassifier(n_estimators=1000)\n",
    "regr.fit(X_train, y_train)\n",
    "\n",
    "\n",
    "print( zero_one_loss(y_test, regr.predict(X_test)) )"
   ]
  },
  {
   "cell_type": "code",
   "execution_count": null,
   "metadata": {},
   "outputs": [],
   "source": []
  }
 ],
 "metadata": {
  "kernelspec": {
   "display_name": "Python 3",
   "language": "python",
   "name": "python3"
  },
  "language_info": {
   "codemirror_mode": {
    "name": "ipython",
    "version": 3
   },
   "file_extension": ".py",
   "mimetype": "text/x-python",
   "name": "python",
   "nbconvert_exporter": "python",
   "pygments_lexer": "ipython3",
   "version": "3.8.5"
  }
 },
 "nbformat": 4,
 "nbformat_minor": 4
}
